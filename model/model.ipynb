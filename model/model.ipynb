{
 "metadata": {
  "language_info": {
   "codemirror_mode": {
    "name": "ipython",
    "version": 3
   },
   "file_extension": ".py",
   "mimetype": "text/x-python",
   "name": "python",
   "nbconvert_exporter": "python",
   "pygments_lexer": "ipython3",
   "version": "3.7.10"
  },
  "orig_nbformat": 2,
  "kernelspec": {
   "name": "python3710jvsc74a57bd0e38e86fd131150031e29e505a663ba5fc5e5ff846e63b4798935614a16316606",
   "display_name": "Python 3.7.10 64-bit ('challenge-retail2': conda)"
  },
  "metadata": {
   "interpreter": {
    "hash": "e38e86fd131150031e29e505a663ba5fc5e5ff846e63b4798935614a16316606"
   }
  }
 },
 "nbformat": 4,
 "nbformat_minor": 2,
 "cells": [
  {
   "cell_type": "code",
   "execution_count": 1,
   "metadata": {},
   "outputs": [],
   "source": [
    "import pandas as pd \n",
    "from fbprophet import Prophet\n",
    "import datetime as dt\n",
    "import pickle"
   ]
  },
  {
   "source": [
    "# Import dataset"
   ],
   "cell_type": "markdown",
   "metadata": {}
  },
  {
   "cell_type": "code",
   "execution_count": 2,
   "metadata": {},
   "outputs": [],
   "source": [
    "df = pd.read_csv(\"../retail.csv\")"
   ]
  },
  {
   "cell_type": "code",
   "execution_count": 3,
   "metadata": {},
   "outputs": [
    {
     "output_type": "execute_result",
     "data": {
      "text/plain": [
       "   Year       Product line  Product type              Product  \\\n",
       "0  2004  Camping Equipment  Cooking Gear  TrailChef Water Bag   \n",
       "1  2004  Camping Equipment  Cooking Gear  TrailChef Water Bag   \n",
       "2  2004  Camping Equipment  Cooking Gear  TrailChef Water Bag   \n",
       "3  2004  Camping Equipment  Cooking Gear  TrailChef Water Bag   \n",
       "4  2004  Camping Equipment  Cooking Gear  TrailChef Water Bag   \n",
       "\n",
       "  Order method type Retailer country    Revenue  Planned revenue  \\\n",
       "0         Telephone    United States  315044.33        437477.15   \n",
       "1         Telephone           Canada   13444.68         14313.48   \n",
       "2         Telephone           Mexico        NaN              NaN   \n",
       "3         Telephone           Brazil        NaN              NaN   \n",
       "4         Telephone            Japan  181120.24        235236.64   \n",
       "\n",
       "   Product cost  Quantity  Unit cost  Unit price  Gross profit  \\\n",
       "0     158371.76   66385.0   2.552857        6.59     156672.57   \n",
       "1       6298.80    2172.0   2.900000        6.59       7145.88   \n",
       "2           NaN       NaN        NaN         NaN           NaN   \n",
       "3           NaN       NaN        NaN         NaN           NaN   \n",
       "4      89413.06   35696.0   2.657000        6.59      91707.18   \n",
       "\n",
       "   Unit sale price  \n",
       "0         5.195714  \n",
       "1         6.190000  \n",
       "2              NaN  \n",
       "3              NaN  \n",
       "4         5.488000  "
      ],
      "text/html": "<div>\n<style scoped>\n    .dataframe tbody tr th:only-of-type {\n        vertical-align: middle;\n    }\n\n    .dataframe tbody tr th {\n        vertical-align: top;\n    }\n\n    .dataframe thead th {\n        text-align: right;\n    }\n</style>\n<table border=\"1\" class=\"dataframe\">\n  <thead>\n    <tr style=\"text-align: right;\">\n      <th></th>\n      <th>Year</th>\n      <th>Product line</th>\n      <th>Product type</th>\n      <th>Product</th>\n      <th>Order method type</th>\n      <th>Retailer country</th>\n      <th>Revenue</th>\n      <th>Planned revenue</th>\n      <th>Product cost</th>\n      <th>Quantity</th>\n      <th>Unit cost</th>\n      <th>Unit price</th>\n      <th>Gross profit</th>\n      <th>Unit sale price</th>\n    </tr>\n  </thead>\n  <tbody>\n    <tr>\n      <th>0</th>\n      <td>2004</td>\n      <td>Camping Equipment</td>\n      <td>Cooking Gear</td>\n      <td>TrailChef Water Bag</td>\n      <td>Telephone</td>\n      <td>United States</td>\n      <td>315044.33</td>\n      <td>437477.15</td>\n      <td>158371.76</td>\n      <td>66385.0</td>\n      <td>2.552857</td>\n      <td>6.59</td>\n      <td>156672.57</td>\n      <td>5.195714</td>\n    </tr>\n    <tr>\n      <th>1</th>\n      <td>2004</td>\n      <td>Camping Equipment</td>\n      <td>Cooking Gear</td>\n      <td>TrailChef Water Bag</td>\n      <td>Telephone</td>\n      <td>Canada</td>\n      <td>13444.68</td>\n      <td>14313.48</td>\n      <td>6298.80</td>\n      <td>2172.0</td>\n      <td>2.900000</td>\n      <td>6.59</td>\n      <td>7145.88</td>\n      <td>6.190000</td>\n    </tr>\n    <tr>\n      <th>2</th>\n      <td>2004</td>\n      <td>Camping Equipment</td>\n      <td>Cooking Gear</td>\n      <td>TrailChef Water Bag</td>\n      <td>Telephone</td>\n      <td>Mexico</td>\n      <td>NaN</td>\n      <td>NaN</td>\n      <td>NaN</td>\n      <td>NaN</td>\n      <td>NaN</td>\n      <td>NaN</td>\n      <td>NaN</td>\n      <td>NaN</td>\n    </tr>\n    <tr>\n      <th>3</th>\n      <td>2004</td>\n      <td>Camping Equipment</td>\n      <td>Cooking Gear</td>\n      <td>TrailChef Water Bag</td>\n      <td>Telephone</td>\n      <td>Brazil</td>\n      <td>NaN</td>\n      <td>NaN</td>\n      <td>NaN</td>\n      <td>NaN</td>\n      <td>NaN</td>\n      <td>NaN</td>\n      <td>NaN</td>\n      <td>NaN</td>\n    </tr>\n    <tr>\n      <th>4</th>\n      <td>2004</td>\n      <td>Camping Equipment</td>\n      <td>Cooking Gear</td>\n      <td>TrailChef Water Bag</td>\n      <td>Telephone</td>\n      <td>Japan</td>\n      <td>181120.24</td>\n      <td>235236.64</td>\n      <td>89413.06</td>\n      <td>35696.0</td>\n      <td>2.657000</td>\n      <td>6.59</td>\n      <td>91707.18</td>\n      <td>5.488000</td>\n    </tr>\n  </tbody>\n</table>\n</div>"
     },
     "metadata": {},
     "execution_count": 3
    }
   ],
   "source": [
    "df.head()"
   ]
  },
  {
   "source": [
    "# Fit and export the model\n",
    "\n",
    "Using Facebook's Prophet library, we fit a time series model for each country using the 4 years of data available. \n",
    "\n",
    "We export each country's model using pickle. "
   ],
   "cell_type": "markdown",
   "metadata": {}
  },
  {
   "cell_type": "code",
   "execution_count": 4,
   "metadata": {},
   "outputs": [
    {
     "output_type": "stream",
     "name": "stdout",
     "text": [
      "United States\n",
      "INFO:fbprophet:Disabling weekly seasonality. Run prophet with weekly_seasonality=True to override this.\n",
      "INFO:fbprophet:Disabling daily seasonality. Run prophet with daily_seasonality=True to override this.\n",
      "INFO:fbprophet:n_changepoints greater than number of observations. Using 2.\n",
      "INFO:fbprophet:Disabling weekly seasonality. Run prophet with weekly_seasonality=True to override this.\n",
      "INFO:fbprophet:Disabling daily seasonality. Run prophet with daily_seasonality=True to override this.\n",
      "INFO:fbprophet:n_changepoints greater than number of observations. Using 2.\n",
      "Canada\n",
      "INFO:fbprophet:Disabling weekly seasonality. Run prophet with weekly_seasonality=True to override this.\n",
      "INFO:fbprophet:Disabling daily seasonality. Run prophet with daily_seasonality=True to override this.\n",
      "INFO:fbprophet:n_changepoints greater than number of observations. Using 2.\n",
      "Mexico\n",
      "INFO:fbprophet:Disabling weekly seasonality. Run prophet with weekly_seasonality=True to override this.\n",
      "INFO:fbprophet:Disabling daily seasonality. Run prophet with daily_seasonality=True to override this.\n",
      "INFO:fbprophet:n_changepoints greater than number of observations. Using 2.\n",
      "Brazil\n",
      "INFO:fbprophet:Disabling weekly seasonality. Run prophet with weekly_seasonality=True to override this.\n",
      "INFO:fbprophet:Disabling daily seasonality. Run prophet with daily_seasonality=True to override this.\n",
      "INFO:fbprophet:n_changepoints greater than number of observations. Using 2.\n",
      "Japan\n",
      "INFO:fbprophet:Disabling weekly seasonality. Run prophet with weekly_seasonality=True to override this.\n",
      "INFO:fbprophet:Disabling daily seasonality. Run prophet with daily_seasonality=True to override this.\n",
      "INFO:fbprophet:n_changepoints greater than number of observations. Using 2.\n",
      "Korea\n",
      "INFO:fbprophet:Disabling weekly seasonality. Run prophet with weekly_seasonality=True to override this.\n",
      "INFO:fbprophet:Disabling daily seasonality. Run prophet with daily_seasonality=True to override this.\n",
      "INFO:fbprophet:n_changepoints greater than number of observations. Using 2.\n",
      "China\n",
      "INFO:fbprophet:Disabling weekly seasonality. Run prophet with weekly_seasonality=True to override this.\n",
      "INFO:fbprophet:Disabling daily seasonality. Run prophet with daily_seasonality=True to override this.\n",
      "INFO:fbprophet:n_changepoints greater than number of observations. Using 2.\n",
      "Singapore\n",
      "INFO:fbprophet:Disabling weekly seasonality. Run prophet with weekly_seasonality=True to override this.\n",
      "INFO:fbprophet:Disabling daily seasonality. Run prophet with daily_seasonality=True to override this.\n",
      "INFO:fbprophet:n_changepoints greater than number of observations. Using 2.\n",
      "Australia\n",
      "INFO:fbprophet:Disabling weekly seasonality. Run prophet with weekly_seasonality=True to override this.\n",
      "INFO:fbprophet:Disabling daily seasonality. Run prophet with daily_seasonality=True to override this.\n",
      "INFO:fbprophet:n_changepoints greater than number of observations. Using 2.\n",
      "Netherlands\n",
      "INFO:fbprophet:Disabling weekly seasonality. Run prophet with weekly_seasonality=True to override this.\n",
      "INFO:fbprophet:Disabling daily seasonality. Run prophet with daily_seasonality=True to override this.\n",
      "INFO:fbprophet:n_changepoints greater than number of observations. Using 2.\n",
      "Sweden\n",
      "INFO:fbprophet:Disabling weekly seasonality. Run prophet with weekly_seasonality=True to override this.\n",
      "INFO:fbprophet:Disabling daily seasonality. Run prophet with daily_seasonality=True to override this.\n",
      "INFO:fbprophet:n_changepoints greater than number of observations. Using 2.\n",
      "Finland\n",
      "INFO:fbprophet:Disabling weekly seasonality. Run prophet with weekly_seasonality=True to override this.\n",
      "INFO:fbprophet:Disabling daily seasonality. Run prophet with daily_seasonality=True to override this.\n",
      "INFO:fbprophet:n_changepoints greater than number of observations. Using 2.\n",
      "Denmark\n",
      "INFO:fbprophet:Disabling weekly seasonality. Run prophet with weekly_seasonality=True to override this.\n",
      "INFO:fbprophet:Disabling daily seasonality. Run prophet with daily_seasonality=True to override this.\n",
      "INFO:fbprophet:n_changepoints greater than number of observations. Using 2.\n",
      "France\n",
      "INFO:fbprophet:Disabling weekly seasonality. Run prophet with weekly_seasonality=True to override this.\n",
      "INFO:fbprophet:Disabling daily seasonality. Run prophet with daily_seasonality=True to override this.\n",
      "INFO:fbprophet:n_changepoints greater than number of observations. Using 2.\n",
      "Germany\n",
      "INFO:fbprophet:Disabling weekly seasonality. Run prophet with weekly_seasonality=True to override this.\n",
      "INFO:fbprophet:Disabling daily seasonality. Run prophet with daily_seasonality=True to override this.\n",
      "INFO:fbprophet:n_changepoints greater than number of observations. Using 2.\n",
      "United Kingdom\n",
      "INFO:fbprophet:Disabling weekly seasonality. Run prophet with weekly_seasonality=True to override this.\n",
      "INFO:fbprophet:Disabling daily seasonality. Run prophet with daily_seasonality=True to override this.\n",
      "INFO:fbprophet:n_changepoints greater than number of observations. Using 2.\n",
      "Belgium\n",
      "INFO:fbprophet:Disabling weekly seasonality. Run prophet with weekly_seasonality=True to override this.\n",
      "INFO:fbprophet:Disabling daily seasonality. Run prophet with daily_seasonality=True to override this.\n",
      "INFO:fbprophet:n_changepoints greater than number of observations. Using 2.\n",
      "Switzerland\n",
      "INFO:fbprophet:Disabling weekly seasonality. Run prophet with weekly_seasonality=True to override this.\n",
      "INFO:fbprophet:Disabling daily seasonality. Run prophet with daily_seasonality=True to override this.\n",
      "INFO:fbprophet:n_changepoints greater than number of observations. Using 2.\n",
      "Austria\n",
      "INFO:fbprophet:Disabling weekly seasonality. Run prophet with weekly_seasonality=True to override this.\n",
      "INFO:fbprophet:Disabling daily seasonality. Run prophet with daily_seasonality=True to override this.\n",
      "INFO:fbprophet:n_changepoints greater than number of observations. Using 2.\n",
      "Italy\n",
      "INFO:fbprophet:Disabling weekly seasonality. Run prophet with weekly_seasonality=True to override this.\n",
      "INFO:fbprophet:Disabling daily seasonality. Run prophet with daily_seasonality=True to override this.\n",
      "INFO:fbprophet:n_changepoints greater than number of observations. Using 2.\n",
      "Spain\n"
     ]
    }
   ],
   "source": [
    "countries = df[\"Retailer country\"].unique()\n",
    "for country in countries:\n",
    "    countryClean = country.lower().replace(\" \", \"\")\n",
    "    print(country)\n",
    "    my_df = df[df[\"Retailer country\"] == country].groupby(\"Year\").sum()[\"Revenue\"].reset_index()\n",
    "    my_df = my_df.rename(columns={\n",
    "        \"Year\": \"ds\",\n",
    "        \"Revenue\": \"y\"\n",
    "    })\n",
    "    my_df[\"ds\"] = my_df[\"ds\"].apply(lambda x: dt.date(x,1,1))\n",
    "    m = Prophet()\n",
    "    m.fit(my_df)\n",
    "\n",
    "    # with open(f\"output/{countryClean}.pkl\", \"wb\") as f:\n",
    "    #     pickle.dump(m, f)\n",
    "    forecast = m.predict(m.make_future_dataframe(\n",
    "            periods=365))[-1:][[\"ds\", \"yhat\", \"yhat_lower\", \"yhat_upper\"]].reset_index(drop=True)\n",
    "    forecast.to_csv(f\"data_output/{countryClean}.csv\")\n"
   ]
  }
 ]
}